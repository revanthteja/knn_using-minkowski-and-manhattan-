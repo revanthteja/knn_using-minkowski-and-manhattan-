{
 "cells": [
  {
   "cell_type": "code",
   "execution_count": 1,
   "id": "8528f6ac",
   "metadata": {},
   "outputs": [
    {
     "name": "stdout",
     "output_type": "stream",
     "text": [
      "[0 1 0 0 0 0 1 1 1 1 0 1 0 1 1 1 0 0 0 1 0 0 1 1 0 0 1 0 0 1 1 1 0 0 1 0 0\n",
      " 0 0 1 0 0 0 0 0 0 0 0 0 1 0 1 0 0 0 0 0 0 1 0 0 1 0 1 0 0 0 0 1 0 0 1 0 0\n",
      " 0 1 0 1 0 0 0 0 0 1 1 1 0 0 0 1 1 1 0 1 1 1 0 0 0 1]\n",
      "[0 1 0 0 0 0 0 0 1 1 0 1 0 1 0 1 0 0 0 1 0 0 1 0 0 0 1 0 0 1 1 0 0 0 1 0 0\n",
      " 0 0 1 0 1 0 0 0 0 0 0 1 1 0 1 0 0 0 0 0 0 1 0 0 1 0 1 0 0 0 0 1 0 0 1 0 0\n",
      " 0 1 0 1 0 0 1 0 0 1 1 1 0 0 0 1 0 1 0 1 1 1 0 0 0 1]\n",
      "[[60  6]\n",
      " [ 3 31]]\n",
      "0.91\n",
      "0.91\n",
      "              precision    recall  f1-score   support\n",
      "\n",
      "           0       0.95      0.91      0.93        66\n",
      "           1       0.84      0.91      0.87        34\n",
      "\n",
      "    accuracy                           0.91       100\n",
      "   macro avg       0.90      0.91      0.90       100\n",
      "weighted avg       0.91      0.91      0.91       100\n",
      "\n"
     ]
    }
   ],
   "source": [
    "import numpy as np\n",
    "import pandas as pd\n",
    "import matplotlib.pyplot as plt\n",
    "dataset=pd.read_csv(\"Social_Network_Ads.csv\")\n",
    "x=dataset.iloc[:,[2,3]].values\n",
    "y=dataset.iloc[:,4].values\n",
    "#x=dataset[['Age','EstimatedSalary']]  #another method with out using i loc\n",
    "#y=dataset[['Purchased']]\n",
    "from sklearn.model_selection import train_test_split\n",
    "x_train,x_test,y_train,y_test=train_test_split(x,y,train_size=0.75,random_state=40)\n",
    "from sklearn.preprocessing import StandardScaler\n",
    "standard_scaler=StandardScaler()\n",
    "x_train=standard_scaler.fit_transform(x_train)\n",
    "x_test=standard_scaler.fit_transform(x_test)\n",
    "from sklearn.neighbors import KNeighborsClassifier\n",
    "classifier=KNeighborsClassifier(n_neighbors=5,metric='manhattan',p=2)\n",
    "classifier.fit(x_train,y_train)\n",
    "y_predict=classifier.predict(x_test)\n",
    "print(y_predict)\n",
    "print(y_test)\n",
    "from sklearn.metrics import confusion_matrix,accuracy_score,classification_report\n",
    "print(confusion_matrix(y_test,y_predict))\n",
    "print((60+31)/(60+31+6+3))#finding the accuracy using confusion matrix\n",
    "print(accuracy_score(y_test,y_predict))\n",
    "print(classification_report(y_test,y_predict))"
   ]
  }
 ],
 "metadata": {
  "kernelspec": {
   "display_name": "Python 3 (ipykernel)",
   "language": "python",
   "name": "python3"
  },
  "language_info": {
   "codemirror_mode": {
    "name": "ipython",
    "version": 3
   },
   "file_extension": ".py",
   "mimetype": "text/x-python",
   "name": "python",
   "nbconvert_exporter": "python",
   "pygments_lexer": "ipython3",
   "version": "3.10.2"
  }
 },
 "nbformat": 4,
 "nbformat_minor": 5
}
